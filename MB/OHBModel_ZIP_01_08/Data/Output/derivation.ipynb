{
 "cells": [
  {
   "cell_type": "markdown",
   "metadata": {},
   "source": [
    "# Derivation\n",
    "Let us derive stuff"
   ]
  },
  {
   "cell_type": "code",
   "execution_count": 34,
   "metadata": {},
   "outputs": [],
   "source": [
    "import matplotlib.pyplot as plt\n",
    "import numpy as np\n",
    "import csv\n",
    "import pandas as pd\n",
    "import scipy.interpolate as inter"
   ]
  },
  {
   "cell_type": "code",
   "execution_count": 7,
   "metadata": {},
   "outputs": [],
   "source": [
    "filename = \"Fig3_Derivate90.csv\"\n",
    "csvfile = open(filename)\n",
    "dataset = csv.reader(csvfile)\n",
    "data = pd.read_csv(filename)"
   ]
  },
  {
   "cell_type": "code",
   "execution_count": 32,
   "metadata": {},
   "outputs": [],
   "source": [
    "#print(data)"
   ]
  },
  {
   "cell_type": "code",
   "execution_count": 53,
   "metadata": {},
   "outputs": [
    {
     "data": {
      "text/plain": [
       "[<matplotlib.lines.Line2D at 0x7fae08f57a58>]"
      ]
     },
     "execution_count": 53,
     "metadata": {},
     "output_type": "execute_result"
    },
    {
     "data": {
      "image/png": "[encoded data removed]",
      "text/plain": [
       "<Figure size 432x288 with 1 Axes>"
      ]
     },
     "metadata": {
      "needs_background": "light"
     },
     "output_type": "display_data"
    }
   ],
   "source": [
    "x  = data['Isp 90']\n",
    "y = data['Trans. Eff. 90 d']\n",
    "xnew = []\n",
    "for i in x:\n",
    "    if i<1500:\n",
    "        xnew.append(i)\n",
    "y = y[:len(xnew)]\n",
    "dy = np.zeros(y.shape,np.float)\n",
    "dy[0:-1] = np.diff(y)/np.diff(xnew)\n",
    "# print(dy)\n",
    "fig, ax1 = plt.subplots()\n",
    "plt.plot(xnew, dy, 'o')\n",
    "plt.plot(xnew, np.zeros(len(xnew)))"
   ]
  },
  {
   "cell_type": "markdown",
   "metadata": {},
   "source": [
    "f= inter.interp1d(dy, xnew, kind = 'previous')\n",
    "print(f(0))"
   ]
  },
  {
   "cell_type": "code",
   "execution_count": 52,
   "metadata": {},
   "outputs": [
    {
     "name": "stdout",
     "output_type": "stream",
     "text": [
      "640.0\n"
     ]
    }
   ],
   "source": [
    "f= inter.interp1d(dy, xnew, kind = 'previous')\n",
    "print(f(0))"
   ]
  }
 ],
 "metadata": {
  "kernelspec": {
   "display_name": "Python 3",
   "language": "python",
   "name": "python3"
  },
  "language_info": {
   "codemirror_mode": {
    "name": "ipython",
    "version": 3
   },
   "file_extension": ".py",
   "mimetype": "text/x-python",
   "name": "python",
   "nbconvert_exporter": "python",
   "pygments_lexer": "ipython3",
   "version": "3.7.1"
  }
 },
 "nbformat": 4,
 "nbformat_minor": 2
}
